{
 "cells": [
  {
   "cell_type": "code",
   "execution_count": 1,
   "id": "e6a56205",
   "metadata": {},
   "outputs": [],
   "source": [
    "from datetime import datetime,timedelta"
   ]
  },
  {
   "cell_type": "markdown",
   "id": "7d5b3df6",
   "metadata": {},
   "source": [
    "## now()"
   ]
  },
  {
   "cell_type": "code",
   "execution_count": 2,
   "id": "8a314915",
   "metadata": {},
   "outputs": [
    {
     "name": "stdout",
     "output_type": "stream",
     "text": [
      "2025-10-16 09:17:31.001709\n"
     ]
    }
   ],
   "source": [
    "d = datetime.now() \n",
    "print(d) # 2025-10-15 13:10:48.127142"
   ]
  },
  {
   "cell_type": "markdown",
   "id": "e5fee2c1",
   "metadata": {},
   "source": [
    "## date()"
   ]
  },
  {
   "cell_type": "code",
   "execution_count": 3,
   "id": "21dea183",
   "metadata": {},
   "outputs": [
    {
     "name": "stdout",
     "output_type": "stream",
     "text": [
      "2025-10-16\n"
     ]
    }
   ],
   "source": [
    "d1 = datetime.date(d)\n",
    "print(d1) # 2025-10-15"
   ]
  },
  {
   "cell_type": "code",
   "execution_count": 4,
   "id": "1c0b40ba",
   "metadata": {},
   "outputs": [
    {
     "name": "stdout",
     "output_type": "stream",
     "text": [
      "<class 'datetime.datetime'>\n",
      "<class 'datetime.date'>\n"
     ]
    }
   ],
   "source": [
    "print(type(d)) # <class 'datetime.datetime'>\n",
    "print(type(d1)) # <class 'datetime.date'>"
   ]
  },
  {
   "cell_type": "markdown",
   "id": "3b92a788",
   "metadata": {},
   "source": [
    "## datetime()"
   ]
  },
  {
   "cell_type": "code",
   "execution_count": 5,
   "id": "8d031800",
   "metadata": {},
   "outputs": [
    {
     "name": "stdout",
     "output_type": "stream",
     "text": [
      "16\n",
      "10\n",
      "2025\n",
      "9\n",
      "17\n",
      "31\n"
     ]
    }
   ],
   "source": [
    "print(d.day) # 15\n",
    "print(d.month) # 10\n",
    "print(d.year) # 2025\n",
    "\n",
    "print(d.hour) \n",
    "print(d.minute)\n",
    "print(d.second)"
   ]
  },
  {
   "cell_type": "code",
   "execution_count": 6,
   "id": "defe48f3",
   "metadata": {},
   "outputs": [
    {
     "name": "stdout",
     "output_type": "stream",
     "text": [
      "2025-12-21 00:00:00\n"
     ]
    }
   ],
   "source": [
    "custom_date = datetime(2025,12,21) ## YYYY,MM,DD\n",
    "print(custom_date)"
   ]
  },
  {
   "cell_type": "code",
   "execution_count": 7,
   "id": "2cdb64c5",
   "metadata": {},
   "outputs": [
    {
     "name": "stdout",
     "output_type": "stream",
     "text": [
      "2025-12-21 14:01:45.000001\n"
     ]
    }
   ],
   "source": [
    "custom_date = datetime(2025,12,21,14,1,45,1) ## YYYY,MM,DD HH,MM,SS\n",
    "print(custom_date)"
   ]
  },
  {
   "cell_type": "code",
   "execution_count": 8,
   "id": "3757bf1a",
   "metadata": {},
   "outputs": [
    {
     "name": "stdout",
     "output_type": "stream",
     "text": [
      "2025-10-16 09:17:31.081909\n",
      "2025-10-16\n",
      "2025-10-17\n",
      "2025-10-23\n"
     ]
    }
   ],
   "source": [
    "d = datetime.now()\n",
    "print(d)\n",
    "\n",
    "d1 = d.date()\n",
    "print(d1)\n",
    "\n",
    "print(d1+timedelta(days = 1))\n",
    "print(d1+timedelta(weeks= 1))"
   ]
  },
  {
   "cell_type": "code",
   "execution_count": null,
   "id": "fcc301f2",
   "metadata": {},
   "outputs": [
    {
     "name": "stdout",
     "output_type": "stream",
     "text": [
      "2025-10-16 09:18:35.014321\n"
     ]
    }
   ],
   "source": [
    "d = datetime.now()\n",
    "print(d)\n",
    "print(type(d))"
   ]
  },
  {
   "cell_type": "markdown",
   "id": "f382b125",
   "metadata": {},
   "source": [
    "## strftime()\n",
    "\n",
    "## this method is used only for date"
   ]
  },
  {
   "cell_type": "code",
   "execution_count": 17,
   "id": "49296a6b",
   "metadata": {},
   "outputs": [
    {
     "name": "stdout",
     "output_type": "stream",
     "text": [
      "16-10-2025 09-18-35\n",
      "<class 'str'>\n"
     ]
    }
   ],
   "source": [
    "s = d.strftime('%d-%m-%Y %H-%M-%S')\n",
    "print(s)\n",
    "print(type(s))"
   ]
  },
  {
   "cell_type": "code",
   "execution_count": 19,
   "id": "90398c96",
   "metadata": {},
   "outputs": [
    {
     "name": "stdout",
     "output_type": "stream",
     "text": [
      "Thursday\n"
     ]
    }
   ],
   "source": [
    "s = d.strftime('%A')\n",
    "print(s)"
   ]
  },
  {
   "cell_type": "markdown",
   "id": "9a7423ab",
   "metadata": {},
   "source": [
    "## str to datetime\n",
    "\n",
    "## strptime() ---> it pass the string and format of string"
   ]
  },
  {
   "cell_type": "code",
   "execution_count": 22,
   "id": "422d4804",
   "metadata": {},
   "outputs": [
    {
     "name": "stdout",
     "output_type": "stream",
     "text": [
      "2025-10-16 00:00:00\n"
     ]
    }
   ],
   "source": [
    "res = datetime.strptime('2025-10-16','%Y-%m-%d')\n",
    "print(res)"
   ]
  },
  {
   "cell_type": "code",
   "execution_count": 26,
   "id": "b9a3e890",
   "metadata": {},
   "outputs": [
    {
     "name": "stdout",
     "output_type": "stream",
     "text": [
      "Invalid Format: time data '2025-19-16' does not match format '%Y-%m-%d'\n"
     ]
    }
   ],
   "source": [
    "try:\n",
    "    res = datetime.strptime('2025-19-16','%Y-%m-%d')\n",
    "except Exception as e:\n",
    "    print('Invalid Format:',e)\n",
    "else:\n",
    "    print(res)"
   ]
  },
  {
   "cell_type": "code",
   "execution_count": 31,
   "id": "fbedddd7",
   "metadata": {},
   "outputs": [
    {
     "name": "stdout",
     "output_type": "stream",
     "text": [
      "['2020-3-10', '2020-3-10']\n"
     ]
    }
   ],
   "source": [
    "def validate_date(date):\n",
    "    try:\n",
    "        datetime.strptime(date,'%Y-%m-%d')\n",
    "    except:\n",
    "        return False\n",
    "    else:\n",
    "        return True\n",
    "l = ['2020-3-10','2020-3-10','2020-30-10']\n",
    "valid_date = []\n",
    "for i in l:\n",
    "    if validate_date(i):\n",
    "        valid_date+=[i]\n",
    "        \n",
    "print(valid_date)\n"
   ]
  }
 ],
 "metadata": {
  "kernelspec": {
   "display_name": "Python 3",
   "language": "python",
   "name": "python3"
  },
  "language_info": {
   "codemirror_mode": {
    "name": "ipython",
    "version": 3
   },
   "file_extension": ".py",
   "mimetype": "text/x-python",
   "name": "python",
   "nbconvert_exporter": "python",
   "pygments_lexer": "ipython3",
   "version": "3.12.6"
  }
 },
 "nbformat": 4,
 "nbformat_minor": 5
}
