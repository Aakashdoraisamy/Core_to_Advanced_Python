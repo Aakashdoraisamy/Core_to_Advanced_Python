{
 "cells": [
  {
   "cell_type": "markdown",
   "id": "3deef28a",
   "metadata": {},
   "source": [
    "# Geneartors"
   ]
  },
  {
   "cell_type": "markdown",
   "id": "73a77f2a",
   "metadata": {},
   "source": [
    "### advantage was in normal user defined function we can't reuse return again and again but we can reuse yield again and agian\n",
    "\n",
    "### before yield we can't use return and both return and yield we can't use together"
   ]
  },
  {
   "cell_type": "code",
   "execution_count": 21,
   "id": "8500371e",
   "metadata": {},
   "outputs": [
    {
     "name": "stdout",
     "output_type": "stream",
     "text": [
      "hello\n",
      "hi\n"
     ]
    }
   ],
   "source": [
    "def func():\n",
    "    yield 'hello'\n",
    "    yield 'hi'\n",
    "res = func()\n",
    "print(next(res))\n",
    "print(next(res))"
   ]
  },
  {
   "cell_type": "code",
   "execution_count": 28,
   "id": "1c539d59",
   "metadata": {},
   "outputs": [
    {
     "name": "stdout",
     "output_type": "stream",
     "text": [
      "hi\n",
      "hello\n",
      "hey\n",
      "hi\n"
     ]
    }
   ],
   "source": [
    "def func():\n",
    "    print('hi')\n",
    "    yield 'hello'\n",
    "    print('hey')\n",
    "    yield 'hi'\n",
    "    print('hello')\n",
    "res = func()\n",
    "print(next(res))\n",
    "print(next(res))"
   ]
  },
  {
   "cell_type": "code",
   "execution_count": 14,
   "id": "b49e3dee",
   "metadata": {},
   "outputs": [
    {
     "name": "stdout",
     "output_type": "stream",
     "text": [
      "0\n"
     ]
    }
   ],
   "source": [
    "def func():\n",
    "    return (i for i in range(10))\n",
    "res = func()\n",
    "print(next(res))\n"
   ]
  }
 ],
 "metadata": {
  "kernelspec": {
   "display_name": "Python 3",
   "language": "python",
   "name": "python3"
  },
  "language_info": {
   "codemirror_mode": {
    "name": "ipython",
    "version": 3
   },
   "file_extension": ".py",
   "mimetype": "text/x-python",
   "name": "python",
   "nbconvert_exporter": "python",
   "pygments_lexer": "ipython3",
   "version": "3.12.6"
  }
 },
 "nbformat": 4,
 "nbformat_minor": 5
}
