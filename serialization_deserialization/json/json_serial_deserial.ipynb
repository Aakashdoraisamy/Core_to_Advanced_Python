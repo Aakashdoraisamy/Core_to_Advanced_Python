{
 "cells": [
  {
   "cell_type": "markdown",
   "id": "ace7d66f",
   "metadata": {},
   "source": [
    "# Serialization"
   ]
  },
  {
   "cell_type": "markdown",
   "id": "da7eb204",
   "metadata": {},
   "source": [
    "### import libaries"
   ]
  },
  {
   "cell_type": "code",
   "execution_count": 1,
   "id": "a0730a6c",
   "metadata": {},
   "outputs": [],
   "source": [
    "import json\n",
    "import pickle"
   ]
  },
  {
   "cell_type": "markdown",
   "id": "e4794c32",
   "metadata": {},
   "source": [
    "## JSON"
   ]
  },
  {
   "cell_type": "code",
   "execution_count": 2,
   "id": "6171cc57",
   "metadata": {},
   "outputs": [],
   "source": [
    "num = 10\n",
    "decimal = 1.2\n",
    "boolean = True\n",
    "string = 'ABC'\n",
    "complex_num = 2 + 3j # not possible \n",
    "tup = (1,2,3)\n",
    "list1 = [1,'a',1.2]\n",
    "set1 = {1,2,3} # not possible\n",
    "dict1 = {\"name\": \"Aakash\", \"age\": 21, \"city\": \"bangalore\"}\n",
    "def greet(): # not possible\n",
    "    print(\"Hello, Aakash!\")\n",
    "class Student: # not possible\n",
    "    pass\n",
    "\n",
    "## because this func,class,complex are not possible to type conversion"
   ]
  },
  {
   "cell_type": "code",
   "execution_count": 3,
   "id": "00d40b1c",
   "metadata": {},
   "outputs": [
    {
     "name": "stdout",
     "output_type": "stream",
     "text": [
      "{\"name\": \"Aakash\", \"age\": 21, \"city\": \"bangalore\"}\n"
     ]
    }
   ],
   "source": [
    "json_str = json.dumps(dict1)\n",
    "print(json_str)"
   ]
  },
  {
   "cell_type": "markdown",
   "id": "921d67fc",
   "metadata": {},
   "source": [
    "# Deserialization"
   ]
  },
  {
   "cell_type": "code",
   "execution_count": 4,
   "id": "8fc11813",
   "metadata": {},
   "outputs": [
    {
     "name": "stdout",
     "output_type": "stream",
     "text": [
      "{'name': 'Aakash', 'age': 21, 'city': 'bangalore'}\n"
     ]
    }
   ],
   "source": [
    "json_str = json.loads(json_str)\n",
    "print(json_str)"
   ]
  },
  {
   "cell_type": "code",
   "execution_count": 5,
   "id": "ec1bbff5",
   "metadata": {},
   "outputs": [
    {
     "name": "stdout",
     "output_type": "stream",
     "text": [
      "file was created.....\n"
     ]
    }
   ],
   "source": [
    "with open('file.json','w') as f:\n",
    "    json.dump(dict1,f)\n",
    "    print('file was created.....')"
   ]
  },
  {
   "cell_type": "code",
   "execution_count": 6,
   "id": "5aa638e3",
   "metadata": {},
   "outputs": [
    {
     "name": "stdout",
     "output_type": "stream",
     "text": [
      "file was ready to load.....\n",
      "{'name': 'Aakash', 'age': 21, 'city': 'bangalore'}\n",
      "{'name': 'Aakash', 'age': 21, 'city': 'bangalore', 'key': 'value', 1: 23}\n"
     ]
    }
   ],
   "source": [
    "with open('file.json','r') as f:\n",
    "    print('file was ready to load.....')\n",
    "    print(json.load(f))\n",
    "    dict1['key'] = 'value'\n",
    "    dict1[1] = 23\n",
    "    print(dict1)"
   ]
  },
  {
   "cell_type": "code",
   "execution_count": 7,
   "id": "30b2ded0",
   "metadata": {},
   "outputs": [],
   "source": [
    "with open('file.json','w') as f:\n",
    "    json.dump(dict1,f,indent=4)"
   ]
  }
 ],
 "metadata": {
  "kernelspec": {
   "display_name": "Python 3",
   "language": "python",
   "name": "python3"
  },
  "language_info": {
   "codemirror_mode": {
    "name": "ipython",
    "version": 3
   },
   "file_extension": ".py",
   "mimetype": "text/x-python",
   "name": "python",
   "nbconvert_exporter": "python",
   "pygments_lexer": "ipython3",
   "version": "3.12.6"
  }
 },
 "nbformat": 4,
 "nbformat_minor": 5
}
