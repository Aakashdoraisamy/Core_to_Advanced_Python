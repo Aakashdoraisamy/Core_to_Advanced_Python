{
 "cells": [
  {
   "cell_type": "markdown",
   "id": "ec7f5e76",
   "metadata": {},
   "source": [
    "# Serialization\n",
    "\n",
    "### it is used to converting or tunring python objects into that format whihc is used to store or save and send the data\n",
    "\n",
    "### All python variables, function, class is consider as python object\n",
    "\n",
    "## Two to Three ways to convert :\n",
    "### - JSON\n",
    "### - YAMAL\n",
    "### - pickle serialization\n",
    "\n",
    "## What are the python objects possible to convert in JSON\n",
    "\n",
    "### int,float,bool,string,list,tuple ---> List internally converted into list becuase tuple is immutable,dict\n",
    "\n",
    "### d = {'1':100,'name':'Aakash'} -----> converted into JSON\n",
    "\n",
    "### JSON stores into key value pairs\n",
    "\n",
    "###  {'1':100,'name':'Aakash'}\n",
    "\n",
    "### For serialization we need to import module\n",
    "\n",
    "### import json\n",
    "\n",
    "### two ways we need to use to perform this\n",
    "### - dummp()\n",
    "### - load()\n",
    "\n",
    "### JSON is text based\n",
    "### pickle is binary based\n"
   ]
  }
 ],
 "metadata": {
  "language_info": {
   "name": "python"
  }
 },
 "nbformat": 4,
 "nbformat_minor": 5
}
