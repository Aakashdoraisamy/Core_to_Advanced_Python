{
 "cells": [
  {
   "cell_type": "markdown",
   "id": "a26818cd",
   "metadata": {},
   "source": [
    "# Pickling and Unpickling\n",
    "\n",
    "### - this pickles are binary formats\n",
    "\n",
    "### - by using pickle we can serialize any python object like list,tuple,set,dictionary,class objects etc\n",
    "\n",
    "### - pickle extension is .pkl or .pickle\n",
    "\n",
    "### - it is used to save or load machine learning models"
   ]
  },
  {
   "cell_type": "code",
   "execution_count": 6,
   "id": "36b04c03",
   "metadata": {},
   "outputs": [],
   "source": [
    "import pickle\n",
    "import json"
   ]
  },
  {
   "cell_type": "code",
   "execution_count": 2,
   "id": "8a597f87",
   "metadata": {},
   "outputs": [
    {
     "name": "stdout",
     "output_type": "stream",
     "text": [
      "5\n"
     ]
    }
   ],
   "source": [
    "def fun(a,b):\n",
    "    return a+b\n",
    "print(fun(2,3))\n",
    "\n",
    "d = {\"name\": \"Aakash\", \"age\": 21, \"city\": \"bangalore\"}"
   ]
  },
  {
   "cell_type": "code",
   "execution_count": 3,
   "id": "af5d7a4d",
   "metadata": {},
   "outputs": [
    {
     "data": {
      "text/plain": [
       "b'\\x80\\x04\\x95\\x14\\x00\\x00\\x00\\x00\\x00\\x00\\x00\\x8c\\x08__main__\\x94\\x8c\\x03fun\\x94\\x93\\x94.'"
      ]
     },
     "execution_count": 3,
     "metadata": {},
     "output_type": "execute_result"
    }
   ],
   "source": [
    "pickle.dumps(fun)"
   ]
  },
  {
   "cell_type": "markdown",
   "id": "ac3659e7",
   "metadata": {},
   "source": [
    "## Converting JSON to Pickle"
   ]
  },
  {
   "cell_type": "code",
   "execution_count": 4,
   "id": "a42f8dc7",
   "metadata": {},
   "outputs": [],
   "source": [
    "with open('file.pkl','wb') as f:\n",
    "    pickle.dump(d,f)"
   ]
  },
  {
   "cell_type": "code",
   "execution_count": 7,
   "id": "294c1a0f",
   "metadata": {},
   "outputs": [
    {
     "name": "stdout",
     "output_type": "stream",
     "text": [
      "{'name': 'Aakash', 'age': 21, 'city': 'bangalore', 'key': 'value', '1': 23}\n"
     ]
    }
   ],
   "source": [
    "with open('file.json','r') as f:\n",
    "    data = json.load(f)\n",
    "    print(data)"
   ]
  },
  {
   "cell_type": "code",
   "execution_count": 8,
   "id": "1f5864c5",
   "metadata": {},
   "outputs": [],
   "source": [
    "with open('converted_json_pickle.pkl','wb') as f:\n",
    "    pickle.dump(data,f)"
   ]
  }
 ],
 "metadata": {
  "kernelspec": {
   "display_name": "Python 3",
   "language": "python",
   "name": "python3"
  },
  "language_info": {
   "codemirror_mode": {
    "name": "ipython",
    "version": 3
   },
   "file_extension": ".py",
   "mimetype": "text/x-python",
   "name": "python",
   "nbconvert_exporter": "python",
   "pygments_lexer": "ipython3",
   "version": "3.12.6"
  }
 },
 "nbformat": 4,
 "nbformat_minor": 5
}
