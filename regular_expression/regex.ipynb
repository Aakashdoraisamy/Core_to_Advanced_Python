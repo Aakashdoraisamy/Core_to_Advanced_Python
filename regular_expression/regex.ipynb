{
 "cells": [
  {
   "cell_type": "markdown",
   "id": "70153b4f",
   "metadata": {},
   "source": [
    "# Regular Expression - RegEX"
   ]
  },
  {
   "cell_type": "markdown",
   "id": "f0634e3e",
   "metadata": {},
   "source": [
    "## RegEX - patter matching like mobile number, mailid,website link\n",
    "\n",
    "### syntax : -\n",
    "\n",
    "# search() ---> it search first occurence\n",
    "### search finds only one pattern\n",
    "### by using search we can get only index\n",
    "\n",
    "\n",
    "### val = re.search(pattern,string)"
   ]
  },
  {
   "cell_type": "code",
   "execution_count": 5,
   "id": "3f16f2ec",
   "metadata": {},
   "outputs": [
    {
     "name": "stdout",
     "output_type": "stream",
     "text": [
      "<re.Match object; span=(25, 29), match='like'>\n",
      "(25, 29)\n"
     ]
    }
   ],
   "source": [
    "import re\n",
    "\n",
    "s = 'RegEX - pattern matching like mobile number, mailid,website link'\n",
    "val = re.search('like',s) ## <re.Match object; span=(25, 29), match='like'>\n",
    "print(val)\n",
    "if val:\n",
    "    print(val.span()) # -----> span is used to tell the start and stop of intex for the searching value\n",
    "else:\n",
    "    print('Pattern not found')"
   ]
  },
  {
   "cell_type": "markdown",
   "id": "144c069c",
   "metadata": {},
   "source": [
    "## group()\n",
    "### By using group we can get the matched word in search we can get index only"
   ]
  },
  {
   "cell_type": "code",
   "execution_count": 6,
   "id": "b4102125",
   "metadata": {},
   "outputs": [
    {
     "name": "stdout",
     "output_type": "stream",
     "text": [
      "like\n"
     ]
    }
   ],
   "source": [
    "print(val.group())"
   ]
  },
  {
   "cell_type": "code",
   "execution_count": 7,
   "id": "2482b9df",
   "metadata": {},
   "outputs": [
    {
     "data": {
      "text/plain": [
       "'\\t'"
      ]
     },
     "execution_count": 7,
     "metadata": {},
     "output_type": "execute_result"
    }
   ],
   "source": [
    "s = 'cr7 \\t is a GOAT'\n",
    "val = re.search(r'\\t',s) ### r is used for saftey purpose in mainly \\ cases\n",
    "val.group()"
   ]
  },
  {
   "cell_type": "markdown",
   "id": "3c4e15e3",
   "metadata": {},
   "source": [
    "## startswith\n",
    "\n",
    "### symbol ---- ^\n",
    "\n",
    "### it is used to search the pattern startswith for that we use that symbol\n"
   ]
  },
  {
   "cell_type": "code",
   "execution_count": 8,
   "id": "c6376eb0",
   "metadata": {},
   "outputs": [
    {
     "data": {
      "text/plain": [
       "<re.Match object; span=(0, 3), match='cr7'>"
      ]
     },
     "execution_count": 8,
     "metadata": {},
     "output_type": "execute_result"
    }
   ],
   "source": [
    "s = 'cr7 \\t is a GOAT'\n",
    "\n",
    "val = re.search(r'^cr7',s)\n",
    "val"
   ]
  },
  {
   "cell_type": "markdown",
   "id": "4751ae5d",
   "metadata": {},
   "source": [
    "## endswith\n",
    "\n",
    "### symbol --- $\n",
    "\n",
    "### it is used to checks the pattern endswith"
   ]
  },
  {
   "cell_type": "code",
   "execution_count": 9,
   "id": "4c428f33",
   "metadata": {},
   "outputs": [
    {
     "data": {
      "text/plain": [
       "<re.Match object; span=(9, 13), match='GOAT'>"
      ]
     },
     "execution_count": 9,
     "metadata": {},
     "output_type": "execute_result"
    }
   ],
   "source": [
    "s = 'cr7 is a GOAT'\n",
    "\n",
    "val = re.search(r'GOAT$',s)\n",
    "val"
   ]
  },
  {
   "cell_type": "markdown",
   "id": "957021a7",
   "metadata": {},
   "source": [
    "# findall()"
   ]
  },
  {
   "cell_type": "code",
   "execution_count": 10,
   "id": "79a2959f",
   "metadata": {},
   "outputs": [
    {
     "data": {
      "text/plain": [
       "['is', 'is']"
      ]
     },
     "execution_count": 10,
     "metadata": {},
     "output_type": "execute_result"
    }
   ],
   "source": [
    "s = 'messi is a GOAT but cr7 is OG GOAT'\n",
    "val = re.findall('is',s)\n",
    "val"
   ]
  },
  {
   "cell_type": "markdown",
   "id": "fe2bb203",
   "metadata": {},
   "source": [
    "## find alphabets\n",
    "\n",
    "### [A-Z] [a-z]\n",
    "### [A-Za-z]"
   ]
  },
  {
   "cell_type": "code",
   "execution_count": 11,
   "id": "85bfcdaa",
   "metadata": {},
   "outputs": [
    {
     "data": {
      "text/plain": [
       "['m',\n",
       " 'e',\n",
       " 's',\n",
       " 's',\n",
       " 'i',\n",
       " 'i',\n",
       " 's',\n",
       " 'a',\n",
       " 'G',\n",
       " 'O',\n",
       " 'A',\n",
       " 'T',\n",
       " 'b',\n",
       " 'u',\n",
       " 't',\n",
       " 'c',\n",
       " 'r',\n",
       " 'i',\n",
       " 's',\n",
       " 'O',\n",
       " 'G',\n",
       " 'G',\n",
       " 'O',\n",
       " 'A',\n",
       " 'T']"
      ]
     },
     "execution_count": 11,
     "metadata": {},
     "output_type": "execute_result"
    }
   ],
   "source": [
    "s = 'messi is a GOAT but cr7 is OG GOAT'\n",
    "val = re.findall(r'[A-z]',s)\n",
    "val"
   ]
  },
  {
   "cell_type": "code",
   "execution_count": 12,
   "id": "06664add",
   "metadata": {},
   "outputs": [
    {
     "data": {
      "text/plain": [
       "[' ', ' ', '#', ' ', ' ', ' ', '#', '^', '!', ' ', ' ', ' ', ' ']"
      ]
     },
     "execution_count": 12,
     "metadata": {},
     "output_type": "execute_result"
    }
   ],
   "source": [
    "s = 'messi is #a GOAT but #^! cr7 is OG GOAT'\n",
    "val = re.findall(r'[#^! ]',s)\n",
    "val"
   ]
  },
  {
   "cell_type": "markdown",
   "id": "90d03c31",
   "metadata": {},
   "source": [
    "## find numbers\n",
    "\n",
    "### [0-9]"
   ]
  },
  {
   "cell_type": "code",
   "execution_count": 13,
   "id": "862f8c8d",
   "metadata": {},
   "outputs": [
    {
     "data": {
      "text/plain": [
       "['7']"
      ]
     },
     "execution_count": 13,
     "metadata": {},
     "output_type": "execute_result"
    }
   ],
   "source": [
    "s = 'messi is a GOAT but cr7 is OG GOAT'\n",
    "val = re.findall(r'[0-9]',s)\n",
    "val"
   ]
  },
  {
   "cell_type": "markdown",
   "id": "76eec76c",
   "metadata": {},
   "source": [
    "# (+) pattern - it is used to check pattern present 1 or more times\n",
    "\n",
    "### [A-Za-z0-9]+"
   ]
  },
  {
   "cell_type": "code",
   "execution_count": 14,
   "id": "fb9c0046",
   "metadata": {},
   "outputs": [
    {
     "data": {
      "text/plain": [
       "['messi', 'is', 'a', 'GOAT', 'but', 'cr7', 'is', 'OG', 'GOAT']"
      ]
     },
     "execution_count": 14,
     "metadata": {},
     "output_type": "execute_result"
    }
   ],
   "source": [
    "s = 'messi is a GOAT but cr7 is OG GOAT'\n",
    "val = re.findall(r'[A-za-z0-9]+',s)\n",
    "val"
   ]
  },
  {
   "cell_type": "markdown",
   "id": "3562c2c1",
   "metadata": {},
   "source": [
    "# (*) pattern - it is used to check pattern present 0 or more times and returns group of characters based on pattern\n",
    "## and it checks character by charcter including spaces"
   ]
  },
  {
   "cell_type": "code",
   "execution_count": 15,
   "id": "b007204f",
   "metadata": {},
   "outputs": [
    {
     "data": {
      "text/plain": [
       "['',\n",
       " '',\n",
       " '',\n",
       " '',\n",
       " '',\n",
       " '',\n",
       " '',\n",
       " '',\n",
       " '',\n",
       " '',\n",
       " '',\n",
       " '',\n",
       " 'GOAT',\n",
       " '',\n",
       " '',\n",
       " '',\n",
       " '',\n",
       " '',\n",
       " '',\n",
       " '',\n",
       " '',\n",
       " '',\n",
       " '',\n",
       " '',\n",
       " '',\n",
       " 'OG',\n",
       " '',\n",
       " 'GOAT',\n",
       " '']"
      ]
     },
     "execution_count": 15,
     "metadata": {},
     "output_type": "execute_result"
    }
   ],
   "source": [
    "s = '*messi is a GOAT but cr7 is OG GOAT'\n",
    "val = re.findall(r'[A-Z]*',s)\n",
    "val"
   ]
  },
  {
   "cell_type": "markdown",
   "id": "73f25931",
   "metadata": {},
   "source": [
    "## In regular expressions (regex), {} (curly braces) are used for quantifiers — they specify how many times the preceding character, group, or character class should appear."
   ]
  },
  {
   "cell_type": "code",
   "execution_count": 16,
   "id": "938e099e",
   "metadata": {},
   "outputs": [
    {
     "data": {
      "text/plain": [
       "['messi', 'GOAT', 'but', 'cr7', 'GOAT']"
      ]
     },
     "execution_count": 16,
     "metadata": {},
     "output_type": "execute_result"
    }
   ],
   "source": [
    "s = 'messi is a GOAT but cr7 is OG GOAT'\n",
    "val = re.findall(r'[A-za-z0-9]{3,}',s)\n",
    "val = re.findall(r'[A-Za-z0-9]{3,5}',s)\n",
    "val"
   ]
  },
  {
   "cell_type": "code",
   "execution_count": 17,
   "id": "309b8f63",
   "metadata": {},
   "outputs": [
    {
     "data": {
      "text/plain": [
       "['9876543210']"
      ]
     },
     "execution_count": 17,
     "metadata": {},
     "output_type": "execute_result"
    }
   ],
   "source": [
    "import re\n",
    "s = 'hello this is my mobile number 9876543210'\n",
    "val = re.findall(r'[0-9]{10}',s)\n",
    "val"
   ]
  },
  {
   "cell_type": "code",
   "execution_count": 18,
   "id": "7f721f3e",
   "metadata": {},
   "outputs": [
    {
     "data": {
      "text/plain": [
       "['1111 2222 3333 4444']"
      ]
     },
     "execution_count": 18,
     "metadata": {},
     "output_type": "execute_result"
    }
   ],
   "source": [
    "s = '1111 2222 3333 4444as'\n",
    "val = re.findall(r'[0-9]{4} [0-9]{4} [0-9]{4} [0-9]{4}',s)\n",
    "val"
   ]
  },
  {
   "cell_type": "markdown",
   "id": "1482b3df",
   "metadata": {},
   "source": [
    "# \\d - it used to get only numbers"
   ]
  },
  {
   "cell_type": "code",
   "execution_count": 19,
   "id": "ef1505c4",
   "metadata": {},
   "outputs": [
    {
     "data": {
      "text/plain": [
       "['1', '2', '3', '4', '5', '1', '2', '3', '1', '2', '3', '3', '2', '3']"
      ]
     },
     "execution_count": 19,
     "metadata": {},
     "output_type": "execute_result"
    }
   ],
   "source": [
    "s = '123 45ds123j 123 sdf323'\n",
    "val = re.findall(r'\\d',s)\n",
    "val"
   ]
  },
  {
   "cell_type": "code",
   "execution_count": 20,
   "id": "0ee6583b",
   "metadata": {},
   "outputs": [
    {
     "data": {
      "text/plain": [
       "['123', '45', '123', '123', '323', '2']"
      ]
     },
     "execution_count": 20,
     "metadata": {},
     "output_type": "execute_result"
    }
   ],
   "source": [
    "s = '123 45ds123j 123 sdf323_ $#2*'\n",
    "val = re.findall(r'\\d+',s)\n",
    "val"
   ]
  },
  {
   "cell_type": "markdown",
   "id": "3aa12508",
   "metadata": {},
   "source": [
    "# \\D it returns except numbers return all characters including special cases and spaces also "
   ]
  },
  {
   "cell_type": "code",
   "execution_count": 21,
   "id": "a56dc193",
   "metadata": {},
   "outputs": [
    {
     "data": {
      "text/plain": [
       "[' ', 'd', 's', 'j', ' ', ' ', 's', 'D', 'f', '_', ' ', '$', '#', '*']"
      ]
     },
     "execution_count": 21,
     "metadata": {},
     "output_type": "execute_result"
    }
   ],
   "source": [
    "s = '123 45ds123j 123 sDf323_ $#2*'\n",
    "val = re.findall(r'\\D',s)\n",
    "val"
   ]
  },
  {
   "cell_type": "code",
   "execution_count": 22,
   "id": "792d36d0",
   "metadata": {},
   "outputs": [
    {
     "data": {
      "text/plain": [
       "[' ', 'ds', 'j ', ' sDf', '_ $#%^*']"
      ]
     },
     "execution_count": 22,
     "metadata": {},
     "output_type": "execute_result"
    }
   ],
   "source": [
    "s = '123 45ds123j 123 sDf323_ $#%^*'\n",
    "val = re.findall(r'\\D+',s)\n",
    "val"
   ]
  },
  {
   "cell_type": "markdown",
   "id": "d07d7bc2",
   "metadata": {},
   "source": [
    "# \\s it returns only space"
   ]
  },
  {
   "cell_type": "code",
   "execution_count": 23,
   "id": "38960dc1",
   "metadata": {},
   "outputs": [
    {
     "data": {
      "text/plain": [
       "[' ', ' ', ' ', ' ']"
      ]
     },
     "execution_count": 23,
     "metadata": {},
     "output_type": "execute_result"
    }
   ],
   "source": [
    "s = '123 45ds123j 123 sDf323_ $#%^*'\n",
    "val = re.findall(r'\\s',s)\n",
    "val"
   ]
  },
  {
   "cell_type": "markdown",
   "id": "02f27294",
   "metadata": {},
   "source": [
    "# \\ S capital s removes space and returns all"
   ]
  },
  {
   "cell_type": "code",
   "execution_count": 24,
   "id": "1310d8f9",
   "metadata": {},
   "outputs": [
    {
     "data": {
      "text/plain": [
       "['1',\n",
       " '2',\n",
       " '3',\n",
       " '4',\n",
       " '5',\n",
       " 'd',\n",
       " 's',\n",
       " '1',\n",
       " '2',\n",
       " '3',\n",
       " 'j',\n",
       " '1',\n",
       " '2',\n",
       " '3',\n",
       " 's',\n",
       " 'D',\n",
       " 'f',\n",
       " '3',\n",
       " '2',\n",
       " '3',\n",
       " '_',\n",
       " '$',\n",
       " '#',\n",
       " '%',\n",
       " '^',\n",
       " '*']"
      ]
     },
     "execution_count": 24,
     "metadata": {},
     "output_type": "execute_result"
    }
   ],
   "source": [
    "s = '123 45ds123j 123 sDf323_ $#%^*'\n",
    "val = re.findall(r'\\S',s)\n",
    "val"
   ]
  },
  {
   "cell_type": "markdown",
   "id": "292382e7",
   "metadata": {},
   "source": [
    "# \\w it excludes special characters and space also and returns characters and digits"
   ]
  },
  {
   "cell_type": "code",
   "execution_count": 25,
   "id": "b6f60119",
   "metadata": {},
   "outputs": [
    {
     "data": {
      "text/plain": [
       "['1',\n",
       " '2',\n",
       " '3',\n",
       " '4',\n",
       " '5',\n",
       " 'd',\n",
       " 's',\n",
       " '1',\n",
       " '2',\n",
       " '3',\n",
       " 'j',\n",
       " '1',\n",
       " '2',\n",
       " '3',\n",
       " 's',\n",
       " 'D',\n",
       " 'f',\n",
       " '3',\n",
       " '2',\n",
       " '3',\n",
       " '_']"
      ]
     },
     "execution_count": 25,
     "metadata": {},
     "output_type": "execute_result"
    }
   ],
   "source": [
    "s = '123 45ds123j 123 sDf323_ $#%^*'\n",
    "val = re.findall(r'\\w',s)\n",
    "val"
   ]
  },
  {
   "cell_type": "code",
   "execution_count": 26,
   "id": "f3631d66",
   "metadata": {},
   "outputs": [
    {
     "data": {
      "text/plain": [
       "['123', '45ds123j', '123', 'sDf323_']"
      ]
     },
     "execution_count": 26,
     "metadata": {},
     "output_type": "execute_result"
    }
   ],
   "source": [
    "s = '123 45ds123j 123 sDf323_ $#%^*'\n",
    "val = re.findall(r'\\w+',s)\n",
    "val"
   ]
  },
  {
   "cell_type": "markdown",
   "id": "c47fa41f",
   "metadata": {},
   "source": [
    "# \\b bound by using this we can check the exact pattern as we given"
   ]
  },
  {
   "cell_type": "markdown",
   "id": "860e8d5d",
   "metadata": {},
   "source": [
    "## get the adhaar number from string"
   ]
  },
  {
   "cell_type": "code",
   "execution_count": 27,
   "id": "dc96a95c",
   "metadata": {},
   "outputs": [
    {
     "data": {
      "text/plain": [
       "['1111-2222-3333']"
      ]
     },
     "execution_count": 27,
     "metadata": {},
     "output_type": "execute_result"
    }
   ],
   "source": [
    "s = 'Adhaar Number: 1111-2222-3333 rishi4444-5555-6666 rishi'\n",
    "val = re.findall(r'\\b\\d{4}-\\d{4}-\\d{4}\\b',s)\n",
    "val"
   ]
  },
  {
   "cell_type": "code",
   "execution_count": 28,
   "id": "c28965e4",
   "metadata": {},
   "outputs": [
    {
     "data": {
      "text/plain": [
       "['1111 2222 3333', '4444-5555-6666']"
      ]
     },
     "execution_count": 28,
     "metadata": {},
     "output_type": "execute_result"
    }
   ],
   "source": [
    "s = 'Adhaar Number: 1111 2222 3333 rishi-4444-5555-6666'\n",
    "val = re.findall(r'\\b\\d{4}[-\\s]+\\d{4}[-\\s]+\\d{4}\\b',s)\n",
    "val"
   ]
  },
  {
   "cell_type": "code",
   "execution_count": 29,
   "id": "a8832087",
   "metadata": {},
   "outputs": [
    {
     "data": {
      "text/plain": [
       "['walterwhite_heisenbergh@gmail.com']"
      ]
     },
     "execution_count": 29,
     "metadata": {},
     "output_type": "execute_result"
    }
   ],
   "source": [
    "s = 'walterwhite_heisenbergh@gmail.com'\n",
    "val = re.findall(r'\\b^[a-z0-9_]+@gmail.com+$\\b', s)\n",
    "val"
   ]
  },
  {
   "cell_type": "markdown",
   "id": "9d21df76",
   "metadata": {},
   "source": [
    "## () is used to match group patterns along with we need to match non grouped patterns for that we use ?:"
   ]
  },
  {
   "cell_type": "code",
   "execution_count": 30,
   "id": "cf751500",
   "metadata": {},
   "outputs": [
    {
     "data": {
      "text/plain": [
       "['walterwhite_heisenbergh@yahoo.com']"
      ]
     },
     "execution_count": 30,
     "metadata": {},
     "output_type": "execute_result"
    }
   ],
   "source": [
    "s = 'walterwhite_heisenbergh@yahoo.com'\n",
    "val = re.findall(r'\\b^[a-z0-9_]+@(?:gmail|outlook|yahoo).com+$\\b', s)\n",
    "val"
   ]
  },
  {
   "cell_type": "code",
   "execution_count": 31,
   "id": "a21a413b",
   "metadata": {},
   "outputs": [
    {
     "data": {
      "text/plain": [
       "['www.google.com', 'www.linkedin.in']"
      ]
     },
     "execution_count": 31,
     "metadata": {},
     "output_type": "execute_result"
    }
   ],
   "source": [
    "s = 'www.google.com www.linkedin.in'\n",
    "val = re.findall(r'www\\.+[a-z0-9_]+\\.(?:com|in|org)+',s)\n",
    "val"
   ]
  },
  {
   "cell_type": "markdown",
   "id": "f51464d0",
   "metadata": {},
   "source": [
    "## Tasks\n",
    "\n",
    "### https://www.google.com  \n",
    "### https://google.com\n",
    "### https:///www.google.com\n",
    "### www.google.com"
   ]
  },
  {
   "cell_type": "code",
   "execution_count": 32,
   "id": "11846575",
   "metadata": {},
   "outputs": [
    {
     "data": {
      "text/plain": [
       "['https://www.google.com', 'www.google.com', 'www.google.com']"
      ]
     },
     "execution_count": 32,
     "metadata": {},
     "output_type": "execute_result"
    }
   ],
   "source": [
    "s = 'https://www.google.com  https://google.com https:///www.google.com www.google.com'\n",
    "val = re.findall(r'(?:https://www)\\.[a-z]+\\.com|(?:www)\\.[a-z]+\\.com', s)\n",
    "val"
   ]
  },
  {
   "cell_type": "markdown",
   "id": "fb99570b",
   "metadata": {},
   "source": [
    "## . it is used to next a one character"
   ]
  },
  {
   "cell_type": "code",
   "execution_count": 33,
   "id": "53dfd29e",
   "metadata": {},
   "outputs": [
    {
     "data": {
      "text/plain": [
       "['aa', 'a ', 'ab', 'a ', 'ab']"
      ]
     },
     "execution_count": 33,
     "metadata": {},
     "output_type": "execute_result"
    }
   ],
   "source": [
    "s = 'aaa aba abba'\n",
    "val = re.findall(r'a.',s)\n",
    "val"
   ]
  },
  {
   "cell_type": "code",
   "execution_count": 34,
   "id": "a34f8cb7",
   "metadata": {},
   "outputs": [
    {
     "data": {
      "text/plain": [
       "['aaa', 'aba']"
      ]
     },
     "execution_count": 34,
     "metadata": {},
     "output_type": "execute_result"
    }
   ],
   "source": [
    "s = 'aaa aba abba'\n",
    "val = re.findall(r'a.a',s)\n",
    "val"
   ]
  },
  {
   "cell_type": "code",
   "execution_count": 35,
   "id": "e60cbf61",
   "metadata": {},
   "outputs": [
    {
     "data": {
      "text/plain": [
       "['aa a', 'abba']"
      ]
     },
     "execution_count": 35,
     "metadata": {},
     "output_type": "execute_result"
    }
   ],
   "source": [
    "s = 'aaa aba abba'\n",
    "val = re.findall(r'a..a',s)\n",
    "val"
   ]
  },
  {
   "cell_type": "markdown",
   "id": "831a69b0",
   "metadata": {},
   "source": [
    "## ? means that the previous element is optional — it can appear 0 or 1 time."
   ]
  },
  {
   "cell_type": "code",
   "execution_count": 36,
   "id": "dc736842",
   "metadata": {},
   "outputs": [
    {
     "data": {
      "text/plain": [
       "['www.amazon.in', 'wwwamazon.in']"
      ]
     },
     "execution_count": 36,
     "metadata": {},
     "output_type": "execute_result"
    }
   ],
   "source": [
    "s = 'www.amazon.in wwwamazon.in amazon.inin'\n",
    "re.findall(r'www\\.?[a-z]+\\.in',s)"
   ]
  },
  {
   "cell_type": "code",
   "execution_count": 37,
   "id": "ec540b3f",
   "metadata": {},
   "outputs": [
    {
     "data": {
      "text/plain": [
       "['www.amazon.in']"
      ]
     },
     "execution_count": 37,
     "metadata": {},
     "output_type": "execute_result"
    }
   ],
   "source": [
    "s = 'www.amazon.in amazon.in amazon.inin'\n",
    "re.findall(r'(?:www)\\.[a-z]+\\.in',s)"
   ]
  },
  {
   "cell_type": "code",
   "execution_count": 38,
   "id": "f57c8ea8",
   "metadata": {},
   "outputs": [
    {
     "data": {
      "text/plain": [
       "['03-10-2004']"
      ]
     },
     "execution_count": 38,
     "metadata": {},
     "output_type": "execute_result"
    }
   ],
   "source": [
    "s = '03-10-2004'\n",
    "re.findall(r'\\d{2}-\\d{2}-\\d{4}',s)"
   ]
  },
  {
   "cell_type": "code",
   "execution_count": 39,
   "id": "7c238158",
   "metadata": {},
   "outputs": [
    {
     "name": "stdout",
     "output_type": "stream",
     "text": [
      "validating DOB....\n"
     ]
    },
    {
     "data": {
      "text/plain": [
       "[]"
      ]
     },
     "execution_count": 39,
     "metadata": {},
     "output_type": "execute_result"
    }
   ],
   "source": [
    "import re\n",
    "s = input('Enter your DD-MM-YYYY date of birth:')\n",
    "print('validating DOB....')\n",
    "re.findall(r'(?:0[1-9]|1[0-9]|2[0-9]|3[0-1])[/\\-\\s.](?:0[1-9]|1[0-2])[/\\-\\s.]\\d{4}',s)"
   ]
  },
  {
   "cell_type": "code",
   "execution_count": null,
   "id": "63fc0040",
   "metadata": {},
   "outputs": [
    {
     "data": {
      "text/plain": [
       "['11:05:35']"
      ]
     },
     "execution_count": 42,
     "metadata": {},
     "output_type": "execute_result"
    }
   ],
   "source": [
    "s = input('Enter Your date:')\n",
    "re.findall(r'(?:0[1-9]|1[0-2])[\\:](?:0[1-9]|1[0-9]|2[0-9]|3[0-9]|4[0-9]|5[0-9])[\\:](?:0[1-9]|1[0-9]|2[0-9]|3[0-9]|4[0-9]|5[0-9])',s)"
   ]
  },
  {
   "cell_type": "code",
   "execution_count": null,
   "id": "fc6fe70c",
   "metadata": {},
   "outputs": [
    {
     "name": "stdout",
     "output_type": "stream",
     "text": [
      "Reversed string: CBA\n",
      "not a palindrome\n"
     ]
    }
   ],
   "source": [
    "s = input(\"Enter a string: \")\n",
    "rev = ''\n",
    "for i in range(len(s)-1, -1, -1):\n",
    "    rev += s[i]\n",
    "print(\"Reversed string:\", rev)\n",
    "# for i in s:\n",
    "#     rev = i + rev\n",
    "if rev == s:\n",
    "    print('it is palindrome')\n",
    "else:\n",
    "    print('not a palindrome')"
   ]
  },
  {
   "cell_type": "code",
   "execution_count": null,
   "id": "7313a9fd",
   "metadata": {},
   "outputs": [
    {
     "name": "stdout",
     "output_type": "stream",
     "text": [
      "Average of input: 4.0\n"
     ]
    }
   ],
   "source": [
    "# nums = eval(input('Enter numbers for:'))\n",
    "nums = [1,2,3,4,5,6,7]\n",
    "i = 0\n",
    "sum = 0\n",
    "count = 0\n",
    "\n",
    "while i<len(nums):\n",
    "    if nums[i]%2 == 1:\n",
    "        sum+=nums[i]\n",
    "        count+=1\n",
    "    i+=1\n",
    "print('Average of input:',sum/count)"
   ]
  },
  {
   "cell_type": "code",
   "execution_count": null,
   "id": "88b6cea2",
   "metadata": {},
   "outputs": [
    {
     "name": "stdout",
     "output_type": "stream",
     "text": [
      "Average of input: 2.0\n"
     ]
    }
   ],
   "source": [
    "s = int(input('enter numbers:')) # 123\n",
    "sum,count = 0,0\n",
    "while s!=0:\n",
    "    digit = s%10\n",
    "    if digit % 2 == 1:\n",
    "        sum += digit\n",
    "        count += 1\n",
    "    s = s//10\n",
    "    \n",
    "print('Average of input:',sum/count)"
   ]
  }
 ],
 "metadata": {
  "kernelspec": {
   "display_name": "Python 3",
   "language": "python",
   "name": "python3"
  },
  "language_info": {
   "codemirror_mode": {
    "name": "ipython",
    "version": 3
   },
   "file_extension": ".py",
   "mimetype": "text/x-python",
   "name": "python",
   "nbconvert_exporter": "python",
   "pygments_lexer": "ipython3",
   "version": "3.12.6"
  }
 },
 "nbformat": 4,
 "nbformat_minor": 5
}
