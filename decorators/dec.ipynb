{
 "cells": [
  {
   "cell_type": "markdown",
   "id": "e104e9a4",
   "metadata": {},
   "source": [
    "# Decorators"
   ]
  },
  {
   "cell_type": "markdown",
   "id": "b57e4a46",
   "metadata": {},
   "source": [
    "### decorators in python is a function that changes behaviour of another function without changing it's code"
   ]
  },
  {
   "cell_type": "code",
   "execution_count": null,
   "id": "bc6f520b",
   "metadata": {},
   "outputs": [
    {
     "name": "stdout",
     "output_type": "stream",
     "text": [
      "inner starts....\n",
      "outside\n",
      "inner ends....\n"
     ]
    }
   ],
   "source": [
    "def main(func):\n",
    "    def inner():\n",
    "        print('inner starts....')\n",
    "        func()\n",
    "        print('inner ends....')\n",
    "    return inner\n",
    "\n",
    "def outside():\n",
    "    print('outside')\n",
    "outside = main(outside)\n",
    "outside()"
   ]
  },
  {
   "cell_type": "code",
   "execution_count": 13,
   "id": "5b509a80",
   "metadata": {},
   "outputs": [
    {
     "name": "stdout",
     "output_type": "stream",
     "text": [
      "inner starts....\n",
      "outside\n",
      "inner ends....\n"
     ]
    }
   ],
   "source": [
    "def main(func):\n",
    "    def inner():\n",
    "        print('inner starts....')\n",
    "        func()\n",
    "        print('inner ends....')\n",
    "    return inner\n",
    "@main\n",
    "def outside():\n",
    "    print('outside')\n",
    "# outside = main(outside)\n",
    "outside()"
   ]
  },
  {
   "cell_type": "code",
   "execution_count": null,
   "id": "9f3d763e",
   "metadata": {},
   "outputs": [
    {
     "name": "stdout",
     "output_type": "stream",
     "text": [
      "Addition: 30\n",
      "Multiplication: 200\n",
      "mul\n",
      "Subtraction: 10\n"
     ]
    }
   ],
   "source": [
    "def main(func):\n",
    "    def inner():\n",
    "        a = 20\n",
    "        b = 10\n",
    "        print(\"Addition:\", a + b)\n",
    "        func(a, b)\n",
    "        print(\"Subtraction:\", a - b)\n",
    "    return inner\n",
    "@main\n",
    "def outside(a, b):\n",
    "    print(\"Multiplication:\", a * b)\n",
    "outside()"
   ]
  },
  {
   "cell_type": "code",
   "execution_count": null,
   "id": "1f429714",
   "metadata": {},
   "outputs": [
    {
     "name": "stdout",
     "output_type": "stream",
     "text": [
      "welcome to calculator\n",
      "2\n"
     ]
    }
   ],
   "source": [
    "def calci(func):\n",
    "    def welcome():\n",
    "        print('welcome to calculator......')\n",
    "        func()\n",
    "    return welcome\n",
    "\n",
    "@calci\n",
    "def operation():\n",
    "    a = int(input('Enter 1st value:'))\n",
    "    b = int(input('Enter 2nd value:'))\n",
    "    option = int(input('enter your choice:'))\n",
    "    match option:\n",
    "        case 1:\n",
    "            print(a+b)\n",
    "        case 2:\n",
    "            print(a-b)\n",
    "        case 3:\n",
    "            print(a*b)\n",
    "        case 4:\n",
    "            print(a/b)\n",
    "        case _:\n",
    "            print('invalid option')\n",
    "\n",
    "operation()"
   ]
  }
 ],
 "metadata": {
  "kernelspec": {
   "display_name": "Python 3",
   "language": "python",
   "name": "python3"
  },
  "language_info": {
   "codemirror_mode": {
    "name": "ipython",
    "version": 3
   },
   "file_extension": ".py",
   "mimetype": "text/x-python",
   "name": "python",
   "nbconvert_exporter": "python",
   "pygments_lexer": "ipython3",
   "version": "3.12.6"
  }
 },
 "nbformat": 4,
 "nbformat_minor": 5
}
