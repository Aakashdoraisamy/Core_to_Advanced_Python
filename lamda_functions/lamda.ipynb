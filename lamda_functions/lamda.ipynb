{
 "cells": [
  {
   "cell_type": "markdown",
   "id": "ebbb9a48",
   "metadata": {},
   "source": [
    "# Higher Order Functions"
   ]
  },
  {
   "cell_type": "markdown",
   "id": "e1682af1",
   "metadata": {},
   "source": [
    "## map()\n",
    "\n",
    "syntax:-\n",
    "    map()\n",
    "    map(function_name,iterable) --> in function we can use lambda or userdefined function\n",
    "\n",
    "    it is used to modify the collection and it returns the values same as the collection length "
   ]
  },
  {
   "cell_type": "markdown",
   "id": "424d52d7",
   "metadata": {},
   "source": [
    "### Lambda function"
   ]
  },
  {
   "cell_type": "code",
   "execution_count": 19,
   "id": "e075d417",
   "metadata": {},
   "outputs": [
    {
     "name": "stdout",
     "output_type": "stream",
     "text": [
      "Odd\n"
     ]
    }
   ],
   "source": [
    "num = int(input(\"Enter a number: \"))\n",
    "new = lambda x: \"Even\" if x % 2 == 0 else \"Odd\"\n",
    "print(new(num))"
   ]
  },
  {
   "cell_type": "code",
   "execution_count": null,
   "id": "2eaec7ea",
   "metadata": {},
   "outputs": [
    {
     "data": {
      "text/plain": [
       "[6, 7, 8, 9, 10]"
      ]
     },
     "execution_count": 1,
     "metadata": {},
     "output_type": "execute_result"
    }
   ],
   "source": [
    "l = [1,2,3,4,5]\n",
    "res = list(map(lambda x:x+5,l)) # if we didn't mention list it will returns as address\n",
    "res"
   ]
  },
  {
   "cell_type": "markdown",
   "id": "ef1fbdeb",
   "metadata": {},
   "source": [
    "### User Defined Function"
   ]
  },
  {
   "cell_type": "code",
   "execution_count": 3,
   "id": "5f0fe945",
   "metadata": {},
   "outputs": [],
   "source": [
    "def add(x):\n",
    "    return x+5"
   ]
  },
  {
   "cell_type": "code",
   "execution_count": 4,
   "id": "25123dc8",
   "metadata": {},
   "outputs": [
    {
     "data": {
      "text/plain": [
       "[6, 7, 8, 9, 10]"
      ]
     },
     "execution_count": 4,
     "metadata": {},
     "output_type": "execute_result"
    }
   ],
   "source": [
    "res = list(map(add,l))\n",
    "res"
   ]
  },
  {
   "cell_type": "markdown",
   "id": "66a1a5c1",
   "metadata": {},
   "source": [
    "## Convert case"
   ]
  },
  {
   "cell_type": "markdown",
   "id": "fab736ec",
   "metadata": {},
   "source": [
    "### normal way to convert using built in method"
   ]
  },
  {
   "cell_type": "code",
   "execution_count": 9,
   "id": "dc892990",
   "metadata": {},
   "outputs": [
    {
     "name": "stdout",
     "output_type": "stream",
     "text": [
      "aakash\n",
      "ECE\n",
      "DATA SCIENCE\n"
     ]
    }
   ],
   "source": [
    "l = [\"AAKASH\", \"ece\", \"data science\"]\n",
    "for i in l:\n",
    "    if i.islower():\n",
    "        print(i.upper())\n",
    "    elif i.isupper():\n",
    "        print(i.lower())\n",
    "        "
   ]
  },
  {
   "cell_type": "markdown",
   "id": "7ed8eb88",
   "metadata": {},
   "source": [
    "### with user define function with map"
   ]
  },
  {
   "cell_type": "code",
   "execution_count": 15,
   "id": "3ea584ac",
   "metadata": {},
   "outputs": [
    {
     "data": {
      "text/plain": [
       "['aakash', 'ECE', 'DATA SCIENCE']"
      ]
     },
     "execution_count": 15,
     "metadata": {},
     "output_type": "execute_result"
    }
   ],
   "source": [
    "l = [\"AAKASH\", \"ece\", \"data science\"]\n",
    "def change_case(word):\n",
    "    if word.islower():\n",
    "        return word.upper()\n",
    "    elif word.isupper():\n",
    "        return word.lower()\n",
    "res = list(map(change_case,l)) # map internally acts like loop\n",
    "res\n",
    "        "
   ]
  },
  {
   "cell_type": "markdown",
   "id": "3a1b29e5",
   "metadata": {},
   "source": [
    "### normal user define function with built in methods"
   ]
  },
  {
   "cell_type": "code",
   "execution_count": null,
   "id": "6a7a933d",
   "metadata": {},
   "outputs": [
    {
     "name": "stdout",
     "output_type": "stream",
     "text": [
      "['aakash', 'ECE', 'DATA SCIENCE']\n"
     ]
    }
   ],
   "source": [
    "def convert_case(words):\n",
    "    result = []\n",
    "    for word in words:\n",
    "        if word.islower():\n",
    "            result.append(word.upper())\n",
    "        elif word.isupper():\n",
    "            result.append(word.lower())\n",
    "        # else:\n",
    "        #     result.append(word.swapcase()) \n",
    "    return result\n",
    "\n",
    "words = [\"AAKASH\", \"ece\", \"data science\"]\n",
    "converted = convert_case(words)\n",
    "print(converted)\n"
   ]
  },
  {
   "cell_type": "markdown",
   "id": "54a91f31",
   "metadata": {},
   "source": [
    "### normal function without any built in method"
   ]
  },
  {
   "cell_type": "code",
   "execution_count": 7,
   "id": "6bee0caf",
   "metadata": {},
   "outputs": [
    {
     "name": "stdout",
     "output_type": "stream",
     "text": [
      "['aakash', 'ECE', 'DATA SCIENCE']\n"
     ]
    }
   ],
   "source": [
    "def convert_case(words):\n",
    "    result = []\n",
    "    for word in words:\n",
    "        new_word = \"\"\n",
    "        for ch in word:\n",
    "            if 'a' <= ch <= 'z':       # lowercase → uppercase\n",
    "                new_word += chr(ord(ch) - 32)\n",
    "            elif 'A' <= ch <= 'Z':     # uppercase → lowercase\n",
    "                new_word += chr(ord(ch) + 32)\n",
    "            else:\n",
    "                new_word += ch          # non-alphabetic stays same\n",
    "        result.append(new_word)\n",
    "    return result\n",
    "\n",
    "words = [\"AAKASH\", \"ece\", \"data science\"]\n",
    "converted = convert_case(words)\n",
    "print(converted)"
   ]
  },
  {
   "cell_type": "markdown",
   "id": "95486595",
   "metadata": {},
   "source": [
    "### Using Lambda and map function"
   ]
  },
  {
   "cell_type": "code",
   "execution_count": 24,
   "id": "42b3189e",
   "metadata": {},
   "outputs": [
    {
     "data": {
      "text/plain": [
       "['aakash', 'ECE', 'DATA SCIENCE']"
      ]
     },
     "execution_count": 24,
     "metadata": {},
     "output_type": "execute_result"
    }
   ],
   "source": [
    "l = [\"AAKASH\", \"ece\", \"data science\"]\n",
    "res = list(map(lambda word: word.lower() if word.isupper() else word.upper(), l))\n",
    "res"
   ]
  },
  {
   "cell_type": "markdown",
   "id": "db631ad5",
   "metadata": {},
   "source": [
    "### Tuple length checking"
   ]
  },
  {
   "cell_type": "code",
   "execution_count": null,
   "id": "8319e966",
   "metadata": {},
   "outputs": [
    {
     "data": {
      "text/plain": [
       "[('GenAI', 5), ('DeepseekAI', 10), ('ClaudeAI', 8)]"
      ]
     },
     "execution_count": 30,
     "metadata": {},
     "output_type": "execute_result"
    }
   ],
   "source": [
    "t = ('GenAI','DeepseekAI','ClaudeAI')\n",
    "res = list(map(lambda word:(word,len(word)), t))\n",
    "res"
   ]
  },
  {
   "cell_type": "markdown",
   "id": "2d118b20",
   "metadata": {},
   "source": [
    "### with dictionary"
   ]
  },
  {
   "cell_type": "code",
   "execution_count": 31,
   "id": "cffaa371",
   "metadata": {},
   "outputs": [
    {
     "data": {
      "text/plain": [
       "{'GenAI': 5, 'DeepseekAI': 10, 'ClaudeAI': 8}"
      ]
     },
     "execution_count": 31,
     "metadata": {},
     "output_type": "execute_result"
    }
   ],
   "source": [
    "d = ('GenAI','DeepseekAI','ClaudeAI')\n",
    "res = dict(map(lambda word: (word, len(word)), d))\n",
    "res\n"
   ]
  },
  {
   "cell_type": "code",
   "execution_count": 41,
   "id": "985878e9",
   "metadata": {},
   "outputs": [
    {
     "data": {
      "text/plain": [
       "[('GenAI', 5), ('DeepseekAI', 10), ('ClaudeAI', 8)]"
      ]
     },
     "execution_count": 41,
     "metadata": {},
     "output_type": "execute_result"
    }
   ],
   "source": [
    "t = ('GenAI', 'DeepseekAI', 'ClaudeAI')\n",
    "res = []\n",
    "for word in t:\n",
    "    res.append((word, len(word)))\n",
    "res"
   ]
  },
  {
   "cell_type": "code",
   "execution_count": 46,
   "id": "51cbd865",
   "metadata": {},
   "outputs": [
    {
     "data": {
      "text/plain": [
       "[('GenAI', 5), ('DeepseekAI', 10), ('ClaudeAI', 8)]"
      ]
     },
     "execution_count": 46,
     "metadata": {},
     "output_type": "execute_result"
    }
   ],
   "source": [
    "t = ('GenAI', 'DeepseekAI', 'ClaudeAI')\n",
    "def word_length(words):\n",
    "    res = []\n",
    "    for word in words:\n",
    "        res.append((word, len(word)))\n",
    "    return res\n",
    "word_length(t)"
   ]
  },
  {
   "cell_type": "markdown",
   "id": "a7b7a98c",
   "metadata": {},
   "source": [
    "# filter()"
   ]
  },
  {
   "cell_type": "code",
   "execution_count": 47,
   "id": "59736924",
   "metadata": {},
   "outputs": [
    {
     "data": {
      "text/plain": [
       "[1, 3, 5, 7, 9]"
      ]
     },
     "execution_count": 47,
     "metadata": {},
     "output_type": "execute_result"
    }
   ],
   "source": [
    "l = [1,2,3,4,5,6,7,8,9]\n",
    "res = list(filter(lambda x: x%2!=0,l))\n",
    "res"
   ]
  },
  {
   "cell_type": "code",
   "execution_count": 48,
   "id": "67a0bbf6",
   "metadata": {},
   "outputs": [
    {
     "data": {
      "text/plain": [
       "['Aakash']"
      ]
     },
     "execution_count": 48,
     "metadata": {},
     "output_type": "execute_result"
    }
   ],
   "source": [
    "l = ['Aakash','ECE']\n",
    "res = list(filter(lambda x: len(x)%2==0,l))\n",
    "res"
   ]
  },
  {
   "cell_type": "code",
   "execution_count": 51,
   "id": "6186a7f5",
   "metadata": {},
   "outputs": [
    {
     "data": {
      "text/plain": [
       "'aakashdorai@gmail.com'"
      ]
     },
     "execution_count": 51,
     "metadata": {},
     "output_type": "execute_result"
    }
   ],
   "source": [
    "s = 'aakashdorai@gmail.com'\n",
    "s.startswith('a')\n",
    "s.endswith('.com')\n",
    "s"
   ]
  },
  {
   "cell_type": "code",
   "execution_count": 53,
   "id": "8ec921aa",
   "metadata": {},
   "outputs": [
    {
     "data": {
      "text/plain": [
       "['python@gmail.com', 'data@gmail.com']"
      ]
     },
     "execution_count": 53,
     "metadata": {},
     "output_type": "execute_result"
    }
   ],
   "source": [
    "l = ['python@gmail.com','abc.in','google.com','data@gmail.com']\n",
    "res = list(filter(lambda x: x.endswith('@gmail.com'),l))\n",
    "res"
   ]
  },
  {
   "cell_type": "markdown",
   "id": "1f03c5e2",
   "metadata": {},
   "source": [
    "1) filter non empty strings from a list\n",
    "2) filter only +ve values from a list\n",
    "3) i/p {'mohan':35,'suman':90,'pavan':30,'rishi':100} --> who got less than 40"
   ]
  },
  {
   "cell_type": "code",
   "execution_count": 54,
   "id": "07c9be1d",
   "metadata": {},
   "outputs": [
    {
     "data": {
      "text/plain": [
       "[1, 2, 3, 3, 4, 6]"
      ]
     },
     "execution_count": 54,
     "metadata": {},
     "output_type": "execute_result"
    }
   ],
   "source": [
    "l = [1,2,-2,0,-1,3,3,4,-4,-5,6,-7]\n",
    "res = list(filter(lambda x: x>0,l))\n",
    "res"
   ]
  },
  {
   "cell_type": "code",
   "execution_count": 1,
   "id": "caf2a0f6",
   "metadata": {},
   "outputs": [
    {
     "data": {
      "text/plain": [
       "['Aakash', 'ECE']"
      ]
     },
     "execution_count": 1,
     "metadata": {},
     "output_type": "execute_result"
    }
   ],
   "source": [
    "l = ['Aakash','ECE','','Data Science']\n",
    "res = list(filter(lambda x: x!='' and x.count(' ') == 0,l))\n",
    "res"
   ]
  },
  {
   "cell_type": "code",
   "execution_count": 2,
   "id": "a277989b",
   "metadata": {},
   "outputs": [
    {
     "data": {
      "text/plain": [
       "{'mohan': 35, 'pavan': 30}"
      ]
     },
     "execution_count": 2,
     "metadata": {},
     "output_type": "execute_result"
    }
   ],
   "source": [
    "d = {'mohan': 35, 'suman': 90, 'pavan': 30, 'rishi': 100}\n",
    "res = dict(filter(lambda x: x[1]<40,d.items()))\n",
    "res"
   ]
  },
  {
   "cell_type": "markdown",
   "id": "39a0e3f7",
   "metadata": {},
   "source": [
    "# Reduce"
   ]
  },
  {
   "cell_type": "code",
   "execution_count": 4,
   "id": "7966157a",
   "metadata": {},
   "outputs": [
    {
     "data": {
      "text/plain": [
       "15"
      ]
     },
     "execution_count": 4,
     "metadata": {},
     "output_type": "execute_result"
    }
   ],
   "source": [
    "from functools import reduce\n",
    "\n",
    "l = [1,2,3,4,5]\n",
    "res = reduce(lambda a,b:a+b,l)\n",
    "res"
   ]
  },
  {
   "cell_type": "code",
   "execution_count": 5,
   "id": "95e587cd",
   "metadata": {},
   "outputs": [
    {
     "data": {
      "text/plain": [
       "5"
      ]
     },
     "execution_count": 5,
     "metadata": {},
     "output_type": "execute_result"
    }
   ],
   "source": [
    "l = [1,2,3,4,5]\n",
    "res = reduce(lambda a,b: a if a>b else b,l)\n",
    "res"
   ]
  },
  {
   "cell_type": "code",
   "execution_count": 5,
   "id": "18e1561b",
   "metadata": {},
   "outputs": [
    {
     "name": "stdout",
     "output_type": "stream",
     "text": [
      "(<function <lambda> at 0x0000018894C1BC40>, [1, 2, 3, 5])\n"
     ]
    }
   ],
   "source": [
    "l = [1,2,3,5]\n",
    "res = (lambda a,b:a+b,l)\n",
    "print(res)"
   ]
  },
  {
   "cell_type": "code",
   "execution_count": 4,
   "id": "27d07ea0",
   "metadata": {},
   "outputs": [
    {
     "name": "stdout",
     "output_type": "stream",
     "text": [
      "15\n"
     ]
    }
   ],
   "source": [
    "print((lambda a,b:a+b)(5,10))"
   ]
  },
  {
   "cell_type": "code",
   "execution_count": null,
   "id": "d3df5094",
   "metadata": {},
   "outputs": [],
   "source": [
    "print((lambda a,b:a+b)(5,10))"
   ]
  }
 ],
 "metadata": {
  "kernelspec": {
   "display_name": "Python 3",
   "language": "python",
   "name": "python3"
  },
  "language_info": {
   "codemirror_mode": {
    "name": "ipython",
    "version": 3
   },
   "file_extension": ".py",
   "mimetype": "text/x-python",
   "name": "python",
   "nbconvert_exporter": "python",
   "pygments_lexer": "ipython3",
   "version": "3.12.6"
  }
 },
 "nbformat": 4,
 "nbformat_minor": 5
}
